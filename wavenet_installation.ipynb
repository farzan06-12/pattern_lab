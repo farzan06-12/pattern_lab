{
  "nbformat": 4,
  "nbformat_minor": 0,
  "metadata": {
    "colab": {
      "name": "wavenet.ipynb",
      "provenance": [],
      "collapsed_sections": [],
      "include_colab_link": true
    },
    "kernelspec": {
      "name": "python3",
      "display_name": "Python 3"
    }
  },
  "cells": [
    {
      "cell_type": "markdown",
      "metadata": {
        "id": "view-in-github",
        "colab_type": "text"
      },
      "source": [
        "<a href=\"https://colab.research.google.com/github/sina-778/pattern_lab/blob/master/wavenet_installation.ipynb\" target=\"_parent\"><img src=\"https://colab.research.google.com/assets/colab-badge.svg\" alt=\"Open In Colab\"/></a>"
      ]
    },
    {
      "cell_type": "code",
      "metadata": {
        "id": "8PSwBGUUV9Lg",
        "colab_type": "code",
        "outputId": "4f57eeca-20f2-4028-9961-9accbffd6514",
        "colab": {
          "base_uri": "https://localhost:8080/",
          "height": 142
        }
      },
      "source": [
        "!git clone https://github.com/r9y9/wavenet_vocoder && cd wavenet_vocoder"
      ],
      "execution_count": 0,
      "outputs": [
        {
          "output_type": "stream",
          "text": [
            "Cloning into 'wavenet_vocoder'...\n",
            "remote: Enumerating objects: 4, done.\u001b[K\n",
            "remote: Counting objects:  25% (1/4)\u001b[K\rremote: Counting objects:  50% (2/4)\u001b[K\rremote: Counting objects:  75% (3/4)\u001b[K\rremote: Counting objects: 100% (4/4)\u001b[K\rremote: Counting objects: 100% (4/4), done.\u001b[K\n",
            "remote: Compressing objects: 100% (4/4), done.\u001b[K\n",
            "remote: Total 1394 (delta 0), reused 1 (delta 0), pack-reused 1390\u001b[K\n",
            "Receiving objects: 100% (1394/1394), 20.20 MiB | 18.16 MiB/s, done.\n",
            "Resolving deltas: 100% (709/709), done.\n"
          ],
          "name": "stdout"
        }
      ]
    },
    {
      "cell_type": "code",
      "metadata": {
        "id": "LJ2EnlaccMp3",
        "colab_type": "code",
        "outputId": "8d598130-b5ae-419f-cb54-6eee0b59bc53",
        "colab": {
          "base_uri": "https://localhost:8080/",
          "height": 136
        }
      },
      "source": [
        "!git clone https://github.com/r9y9/wavenet_vocoder && cd wavenet_vocoder"
      ],
      "execution_count": 7,
      "outputs": [
        {
          "output_type": "stream",
          "text": [
            "Cloning into 'wavenet_vocoder'...\n",
            "remote: Enumerating objects: 4, done.\u001b[K\n",
            "remote: Counting objects: 100% (4/4), done.\u001b[K\n",
            "remote: Compressing objects: 100% (4/4), done.\u001b[K\n",
            "remote: Total 1394 (delta 0), reused 1 (delta 0), pack-reused 1390\u001b[K\n",
            "Receiving objects: 100% (1394/1394), 20.20 MiB | 7.49 MiB/s, done.\n",
            "Resolving deltas: 100% (709/709), done.\n"
          ],
          "name": "stdout"
        }
      ]
    },
    {
      "cell_type": "code",
      "metadata": {
        "id": "E8ngG0p8im6u",
        "colab_type": "code",
        "colab": {
          "base_uri": "https://localhost:8080/",
          "height": 836
        },
        "outputId": "f147e583-809b-4fa0-8632-2329edceaf97"
      },
      "source": [
        "pip install -e /content/wavenet_vocoder"
      ],
      "execution_count": 8,
      "outputs": [
        {
          "output_type": "stream",
          "text": [
            "Obtaining file:///content/wavenet_vocoder\n",
            "Requirement already satisfied: numpy in /usr/local/lib/python3.6/dist-packages (from wavenet-vocoder==0.2.0) (1.18.4)\n",
            "Requirement already satisfied: scipy in /usr/local/lib/python3.6/dist-packages (from wavenet-vocoder==0.2.0) (1.4.1)\n",
            "Requirement already satisfied: torch>=0.4.1 in /usr/local/lib/python3.6/dist-packages (from wavenet-vocoder==0.2.0) (1.5.0+cu101)\n",
            "Requirement already satisfied: docopt in /usr/local/lib/python3.6/dist-packages (from wavenet-vocoder==0.2.0) (0.6.2)\n",
            "Requirement already satisfied: joblib in /usr/local/lib/python3.6/dist-packages (from wavenet-vocoder==0.2.0) (0.14.1)\n",
            "Requirement already satisfied: tqdm in /usr/local/lib/python3.6/dist-packages (from wavenet-vocoder==0.2.0) (4.41.1)\n",
            "Collecting tensorboardX\n",
            "\u001b[?25l  Downloading https://files.pythonhosted.org/packages/35/f1/5843425495765c8c2dd0784a851a93ef204d314fc87bcc2bbb9f662a3ad1/tensorboardX-2.0-py2.py3-none-any.whl (195kB)\n",
            "\u001b[K     |████████████████████████████████| 204kB 2.8MB/s \n",
            "\u001b[?25hCollecting nnmnkwii>=0.0.11\n",
            "\u001b[?25l  Downloading https://files.pythonhosted.org/packages/54/fe/fe4949f9ea5a9a92e1850bab1e7b11f0945f97665607c18d5ab012262960/nnmnkwii-0.0.20.tar.gz (1.7MB)\n",
            "\u001b[K     |████████████████████████████████| 1.7MB 9.0MB/s \n",
            "\u001b[?25hRequirement already satisfied: scikit-learn in /usr/local/lib/python3.6/dist-packages (from wavenet-vocoder==0.2.0) (0.22.2.post1)\n",
            "Requirement already satisfied: librosa in /usr/local/lib/python3.6/dist-packages (from wavenet-vocoder==0.2.0) (0.6.3)\n",
            "Requirement already satisfied: future in /usr/local/lib/python3.6/dist-packages (from torch>=0.4.1->wavenet-vocoder==0.2.0) (0.16.0)\n",
            "Requirement already satisfied: protobuf>=3.8.0 in /usr/local/lib/python3.6/dist-packages (from tensorboardX->wavenet-vocoder==0.2.0) (3.10.0)\n",
            "Requirement already satisfied: six in /usr/local/lib/python3.6/dist-packages (from tensorboardX->wavenet-vocoder==0.2.0) (1.12.0)\n",
            "Requirement already satisfied: cython>=0.28.0 in /usr/local/lib/python3.6/dist-packages (from nnmnkwii>=0.0.11->wavenet-vocoder==0.2.0) (0.29.17)\n",
            "Requirement already satisfied: fastdtw in /usr/local/lib/python3.6/dist-packages (from nnmnkwii>=0.0.11->wavenet-vocoder==0.2.0) (0.3.4)\n",
            "Requirement already satisfied: sklearn in /usr/local/lib/python3.6/dist-packages (from nnmnkwii>=0.0.11->wavenet-vocoder==0.2.0) (0.0)\n",
            "Collecting pysptk>=0.1.17\n",
            "\u001b[?25l  Downloading https://files.pythonhosted.org/packages/7c/25/4ea0932fbf0f1db42934b85011c1c825bcf57055ecde7e511f05e9fb9197/pysptk-0.1.18.tar.gz (419kB)\n",
            "\u001b[K     |████████████████████████████████| 419kB 17.4MB/s \n",
            "\u001b[?25hCollecting bandmat>=0.7\n",
            "\u001b[?25l  Downloading https://files.pythonhosted.org/packages/94/69/c94a1f690ce9dace7de87f9c95ce297e11e8d0c1314f0280027be2194d0b/bandmat-0.7.tar.gz (364kB)\n",
            "\u001b[K     |████████████████████████████████| 368kB 22.6MB/s \n",
            "\u001b[?25hRequirement already satisfied: resampy>=0.2.0 in /usr/local/lib/python3.6/dist-packages (from librosa->wavenet-vocoder==0.2.0) (0.2.2)\n",
            "Requirement already satisfied: numba>=0.38.0 in /usr/local/lib/python3.6/dist-packages (from librosa->wavenet-vocoder==0.2.0) (0.48.0)\n",
            "Requirement already satisfied: decorator>=3.0.0 in /usr/local/lib/python3.6/dist-packages (from librosa->wavenet-vocoder==0.2.0) (4.4.2)\n",
            "Requirement already satisfied: audioread>=2.0.0 in /usr/local/lib/python3.6/dist-packages (from librosa->wavenet-vocoder==0.2.0) (2.1.8)\n",
            "Requirement already satisfied: setuptools in /usr/local/lib/python3.6/dist-packages (from protobuf>=3.8.0->tensorboardX->wavenet-vocoder==0.2.0) (46.3.0)\n",
            "Requirement already satisfied: llvmlite<0.32.0,>=0.31.0dev0 in /usr/local/lib/python3.6/dist-packages (from numba>=0.38.0->librosa->wavenet-vocoder==0.2.0) (0.31.0)\n",
            "Building wheels for collected packages: nnmnkwii, pysptk, bandmat\n",
            "  Building wheel for nnmnkwii (setup.py) ... \u001b[?25l\u001b[?25hdone\n",
            "  Created wheel for nnmnkwii: filename=nnmnkwii-0.0.20-cp36-cp36m-linux_x86_64.whl size=1880485 sha256=18497217cbdf84f7d096162aa879af9aeab5738ee1a1f801ce9e2ceac992ae44\n",
            "  Stored in directory: /root/.cache/pip/wheels/c8/b2/6a/76aedd175231e475da518b6a63fcc6ecee567e57f29cbc1b05\n",
            "  Building wheel for pysptk (setup.py) ... \u001b[?25l\u001b[?25hdone\n",
            "  Created wheel for pysptk: filename=pysptk-0.1.18-cp36-cp36m-linux_x86_64.whl size=949993 sha256=fd3f412ba7fa36739c1495f38a1ae97d3065b76be68be5a5b6f723189f0420c5\n",
            "  Stored in directory: /root/.cache/pip/wheels/c7/96/d2/a163240019c59504402fab713af259026af81a99dea943404a\n",
            "  Building wheel for bandmat (setup.py) ... \u001b[?25l\u001b[?25hdone\n",
            "  Created wheel for bandmat: filename=bandmat-0.7-cp36-cp36m-linux_x86_64.whl size=898000 sha256=d2507d3eeb75d14977f75063e252312a837ec9cfd7b434a60eedf4ad22763c6f\n",
            "  Stored in directory: /root/.cache/pip/wheels/54/1e/28/429fffda48c9c9d2be90a5bea465554ac9f8f40bb370dae42d\n",
            "Successfully built nnmnkwii pysptk bandmat\n",
            "Installing collected packages: tensorboardX, pysptk, bandmat, nnmnkwii, wavenet-vocoder\n",
            "  Running setup.py develop for wavenet-vocoder\n",
            "Successfully installed bandmat-0.7 nnmnkwii-0.0.20 pysptk-0.1.18 tensorboardX-2.0 wavenet-vocoder\n"
          ],
          "name": "stdout"
        }
      ]
    },
    {
      "cell_type": "code",
      "metadata": {
        "id": "UGGQT4EVivnC",
        "colab_type": "code",
        "colab": {}
      },
      "source": [
        ""
      ],
      "execution_count": 0,
      "outputs": []
    },
    {
      "cell_type": "code",
      "metadata": {
        "id": "QJtZKC8icX2q",
        "colab_type": "code",
        "colab": {}
      },
      "source": [
        ""
      ],
      "execution_count": 0,
      "outputs": []
    }
  ]
}